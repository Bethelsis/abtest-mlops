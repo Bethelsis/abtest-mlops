{
 "cells": [
  {
   "cell_type": "markdown",
   "id": "cfb00076",
   "metadata": {},
   "source": [
    "## Task **2.2** Machine **Learning**"
   ]
  },
  {
   "cell_type": "markdown",
   "id": "afb9744b",
   "metadata": {},
   "source": [
    "We want to predict whether the exposed group have an impact on the brand awareness.\n",
    "\n",
    "The target – is the conversion rate in exposed group greater than control group, in which case our target variable can be either a \"yes\" or a \"no \" variable\n",
    "Variables/features – [experiment, device make, day_of_week, hour, browser] are the features that can be used to identify patterns to predict the target answer."
   ]
  },
  {
   "cell_type": "code",
   "execution_count": 4,
   "id": "8295eeeb",
   "metadata": {},
   "outputs": [],
   "source": [
    "# import necessary library\n",
    "import pandas as pd\n",
    "import numpy as np\n",
    "import seaborn as sns\n",
    "from sklearn import preprocessing \n",
    "import matplotlib.pyplot as plt\n",
    "from sklearn.linear_model import LogisticRegression\n",
    "from sklearn.tree import DecisionTreeClassifier\n",
    "#import xgboost as xgb\n",
    "from sklearn.model_selection import KFold\n",
    "from sklearn.model_selection import cross_val_score\n",
    "import sklearn.utils\n",
    "import dvc.api\n",
    "# suppress warnings \n",
    "import warnings\n",
    "warnings.simplefilter(\"ignore\")"
   ]
  },
  {
   "cell_type": "code",
   "execution_count": 5,
   "id": "5d94d278",
   "metadata": {},
   "outputs": [
    {
     "ename": "PathMissingError",
     "evalue": "The path 'data/AdSmartABdata2.csv' does not exist in the target repository '/home/bethelhem/abtest-mlops' neither as a DVC output nor as a Git-tracked file.",
     "output_type": "error",
     "traceback": [
      "\u001b[0;31m---------------------------------------------------------------------------\u001b[0m",
      "\u001b[0;31mFileNotFoundError\u001b[0m                         Traceback (most recent call last)",
      "\u001b[0;32m/usr/local/lib/python3.8/dist-packages/funcy/flow.py\u001b[0m in \u001b[0;36mreraise\u001b[0;34m(errors, into)\u001b[0m\n\u001b[1;32m    111\u001b[0m     \u001b[0;32mtry\u001b[0m\u001b[0;34m:\u001b[0m\u001b[0;34m\u001b[0m\u001b[0;34m\u001b[0m\u001b[0m\n\u001b[0;32m--> 112\u001b[0;31m         \u001b[0;32myield\u001b[0m\u001b[0;34m\u001b[0m\u001b[0;34m\u001b[0m\u001b[0m\n\u001b[0m\u001b[1;32m    113\u001b[0m     \u001b[0;32mexcept\u001b[0m \u001b[0merrors\u001b[0m \u001b[0;32mas\u001b[0m \u001b[0me\u001b[0m\u001b[0;34m:\u001b[0m\u001b[0;34m\u001b[0m\u001b[0;34m\u001b[0m\u001b[0m\n",
      "\u001b[0;32m/usr/local/lib/python3.8/dist-packages/dvc/api.py\u001b[0m in \u001b[0;36mget_url\u001b[0;34m(path, repo, rev, remote)\u001b[0m\n\u001b[1;32m     24\u001b[0m         \u001b[0;32mwith\u001b[0m \u001b[0mreraise\u001b[0m\u001b[0;34m(\u001b[0m\u001b[0mFileNotFoundError\u001b[0m\u001b[0;34m,\u001b[0m \u001b[0mPathMissingError\u001b[0m\u001b[0;34m(\u001b[0m\u001b[0mpath\u001b[0m\u001b[0;34m,\u001b[0m \u001b[0mrepo\u001b[0m\u001b[0;34m)\u001b[0m\u001b[0;34m)\u001b[0m\u001b[0;34m:\u001b[0m\u001b[0;34m\u001b[0m\u001b[0;34m\u001b[0m\u001b[0m\n\u001b[0;32m---> 25\u001b[0;31m             \u001b[0mmetadata\u001b[0m \u001b[0;34m=\u001b[0m \u001b[0m_repo\u001b[0m\u001b[0;34m.\u001b[0m\u001b[0mrepo_fs\u001b[0m\u001b[0;34m.\u001b[0m\u001b[0mmetadata\u001b[0m\u001b[0;34m(\u001b[0m\u001b[0mpath_info\u001b[0m\u001b[0;34m)\u001b[0m\u001b[0;34m\u001b[0m\u001b[0;34m\u001b[0m\u001b[0m\n\u001b[0m\u001b[1;32m     26\u001b[0m \u001b[0;34m\u001b[0m\u001b[0m\n",
      "\u001b[0;32m/usr/local/lib/python3.8/dist-packages/dvc/fs/repo.py\u001b[0m in \u001b[0;36mmetadata\u001b[0;34m(self, path)\u001b[0m\n\u001b[1;32m    408\u001b[0m         \u001b[0;32mif\u001b[0m \u001b[0;32mnot\u001b[0m \u001b[0mstat_result\u001b[0m \u001b[0;32mand\u001b[0m \u001b[0;32mnot\u001b[0m \u001b[0mdvc_meta\u001b[0m\u001b[0;34m:\u001b[0m\u001b[0;34m\u001b[0m\u001b[0;34m\u001b[0m\u001b[0m\n\u001b[0;32m--> 409\u001b[0;31m             \u001b[0;32mraise\u001b[0m \u001b[0mFileNotFoundError\u001b[0m\u001b[0;34m\u001b[0m\u001b[0;34m\u001b[0m\u001b[0m\n\u001b[0m\u001b[1;32m    410\u001b[0m \u001b[0;34m\u001b[0m\u001b[0m\n",
      "\u001b[0;31mFileNotFoundError\u001b[0m: ",
      "\nThe above exception was the direct cause of the following exception:\n",
      "\u001b[0;31mPathMissingError\u001b[0m                          Traceback (most recent call last)",
      "\u001b[0;32m<ipython-input-5-917c754e35f5>\u001b[0m in \u001b[0;36m<module>\u001b[0;34m\u001b[0m\n\u001b[1;32m      2\u001b[0m \u001b[0mrepo\u001b[0m \u001b[0;34m=\u001b[0m \u001b[0;34m'/home/bethelhem/abtest-mlops'\u001b[0m\u001b[0;34m\u001b[0m\u001b[0;34m\u001b[0m\u001b[0m\n\u001b[1;32m      3\u001b[0m \u001b[0mversion\u001b[0m \u001b[0;34m=\u001b[0m \u001b[0;34m'v1'\u001b[0m\u001b[0;34m\u001b[0m\u001b[0;34m\u001b[0m\u001b[0m\n\u001b[0;32m----> 4\u001b[0;31m data_url = dvc.api.get_url(\n\u001b[0m\u001b[1;32m      5\u001b[0m   \u001b[0mpath\u001b[0m \u001b[0;34m=\u001b[0m \u001b[0mpath\u001b[0m\u001b[0;34m,\u001b[0m\u001b[0;34m\u001b[0m\u001b[0;34m\u001b[0m\u001b[0m\n\u001b[1;32m      6\u001b[0m   \u001b[0mrepo\u001b[0m \u001b[0;34m=\u001b[0m \u001b[0mrepo\u001b[0m\u001b[0;34m,\u001b[0m\u001b[0;34m\u001b[0m\u001b[0;34m\u001b[0m\u001b[0m\n",
      "\u001b[0;32m/usr/local/lib/python3.8/dist-packages/dvc/api.py\u001b[0m in \u001b[0;36mget_url\u001b[0;34m(path, repo, rev, remote)\u001b[0m\n\u001b[1;32m     23\u001b[0m         \u001b[0mpath_info\u001b[0m \u001b[0;34m=\u001b[0m \u001b[0mPathInfo\u001b[0m\u001b[0;34m(\u001b[0m\u001b[0m_repo\u001b[0m\u001b[0;34m.\u001b[0m\u001b[0mroot_dir\u001b[0m\u001b[0;34m)\u001b[0m \u001b[0;34m/\u001b[0m \u001b[0mpath\u001b[0m\u001b[0;34m\u001b[0m\u001b[0;34m\u001b[0m\u001b[0m\n\u001b[1;32m     24\u001b[0m         \u001b[0;32mwith\u001b[0m \u001b[0mreraise\u001b[0m\u001b[0;34m(\u001b[0m\u001b[0mFileNotFoundError\u001b[0m\u001b[0;34m,\u001b[0m \u001b[0mPathMissingError\u001b[0m\u001b[0;34m(\u001b[0m\u001b[0mpath\u001b[0m\u001b[0;34m,\u001b[0m \u001b[0mrepo\u001b[0m\u001b[0;34m)\u001b[0m\u001b[0;34m)\u001b[0m\u001b[0;34m:\u001b[0m\u001b[0;34m\u001b[0m\u001b[0;34m\u001b[0m\u001b[0m\n\u001b[0;32m---> 25\u001b[0;31m             \u001b[0mmetadata\u001b[0m \u001b[0;34m=\u001b[0m \u001b[0m_repo\u001b[0m\u001b[0;34m.\u001b[0m\u001b[0mrepo_fs\u001b[0m\u001b[0;34m.\u001b[0m\u001b[0mmetadata\u001b[0m\u001b[0;34m(\u001b[0m\u001b[0mpath_info\u001b[0m\u001b[0;34m)\u001b[0m\u001b[0;34m\u001b[0m\u001b[0;34m\u001b[0m\u001b[0m\n\u001b[0m\u001b[1;32m     26\u001b[0m \u001b[0;34m\u001b[0m\u001b[0m\n\u001b[1;32m     27\u001b[0m         \u001b[0;32mif\u001b[0m \u001b[0;32mnot\u001b[0m \u001b[0mmetadata\u001b[0m\u001b[0;34m.\u001b[0m\u001b[0mis_dvc\u001b[0m\u001b[0;34m:\u001b[0m\u001b[0;34m\u001b[0m\u001b[0;34m\u001b[0m\u001b[0m\n",
      "\u001b[0;32m/usr/lib/python3.8/contextlib.py\u001b[0m in \u001b[0;36m__exit__\u001b[0;34m(self, type, value, traceback)\u001b[0m\n\u001b[1;32m    129\u001b[0m                 \u001b[0mvalue\u001b[0m \u001b[0;34m=\u001b[0m \u001b[0mtype\u001b[0m\u001b[0;34m(\u001b[0m\u001b[0;34m)\u001b[0m\u001b[0;34m\u001b[0m\u001b[0;34m\u001b[0m\u001b[0m\n\u001b[1;32m    130\u001b[0m             \u001b[0;32mtry\u001b[0m\u001b[0;34m:\u001b[0m\u001b[0;34m\u001b[0m\u001b[0;34m\u001b[0m\u001b[0m\n\u001b[0;32m--> 131\u001b[0;31m                 \u001b[0mself\u001b[0m\u001b[0;34m.\u001b[0m\u001b[0mgen\u001b[0m\u001b[0;34m.\u001b[0m\u001b[0mthrow\u001b[0m\u001b[0;34m(\u001b[0m\u001b[0mtype\u001b[0m\u001b[0;34m,\u001b[0m \u001b[0mvalue\u001b[0m\u001b[0;34m,\u001b[0m \u001b[0mtraceback\u001b[0m\u001b[0;34m)\u001b[0m\u001b[0;34m\u001b[0m\u001b[0;34m\u001b[0m\u001b[0m\n\u001b[0m\u001b[1;32m    132\u001b[0m             \u001b[0;32mexcept\u001b[0m \u001b[0mStopIteration\u001b[0m \u001b[0;32mas\u001b[0m \u001b[0mexc\u001b[0m\u001b[0;34m:\u001b[0m\u001b[0;34m\u001b[0m\u001b[0;34m\u001b[0m\u001b[0m\n\u001b[1;32m    133\u001b[0m                 \u001b[0;31m# Suppress StopIteration *unless* it's the same exception that\u001b[0m\u001b[0;34m\u001b[0m\u001b[0;34m\u001b[0m\u001b[0;34m\u001b[0m\u001b[0m\n",
      "\u001b[0;32m/usr/local/lib/python3.8/dist-packages/funcy/flow.py\u001b[0m in \u001b[0;36mreraise\u001b[0;34m(errors, into)\u001b[0m\n\u001b[1;32m    114\u001b[0m         \u001b[0;32mif\u001b[0m \u001b[0mcallable\u001b[0m\u001b[0;34m(\u001b[0m\u001b[0minto\u001b[0m\u001b[0;34m)\u001b[0m \u001b[0;32mand\u001b[0m \u001b[0;32mnot\u001b[0m \u001b[0m_is_exception_type\u001b[0m\u001b[0;34m(\u001b[0m\u001b[0minto\u001b[0m\u001b[0;34m)\u001b[0m\u001b[0;34m:\u001b[0m\u001b[0;34m\u001b[0m\u001b[0;34m\u001b[0m\u001b[0m\n\u001b[1;32m    115\u001b[0m             \u001b[0minto\u001b[0m \u001b[0;34m=\u001b[0m \u001b[0minto\u001b[0m\u001b[0;34m(\u001b[0m\u001b[0me\u001b[0m\u001b[0;34m)\u001b[0m\u001b[0;34m\u001b[0m\u001b[0;34m\u001b[0m\u001b[0m\n\u001b[0;32m--> 116\u001b[0;31m         \u001b[0mraise_from\u001b[0m\u001b[0;34m(\u001b[0m\u001b[0minto\u001b[0m\u001b[0;34m,\u001b[0m \u001b[0me\u001b[0m\u001b[0;34m)\u001b[0m\u001b[0;34m\u001b[0m\u001b[0;34m\u001b[0m\u001b[0m\n\u001b[0m\u001b[1;32m    117\u001b[0m \u001b[0;34m\u001b[0m\u001b[0m\n\u001b[1;32m    118\u001b[0m \u001b[0;34m\u001b[0m\u001b[0m\n",
      "\u001b[0;32m/usr/local/lib/python3.8/dist-packages/funcy/compat.py\u001b[0m in \u001b[0;36mraise_from\u001b[0;34m(value, from_value)\u001b[0m\n",
      "\u001b[0;31mPathMissingError\u001b[0m: The path 'data/AdSmartABdata2.csv' does not exist in the target repository '/home/bethelhem/abtest-mlops' neither as a DVC output nor as a Git-tracked file."
     ]
    }
   ],
   "source": [
    "path = 'data/AdSmartABdata2.csv'\n",
    "repo = '/home/bethelhem/abtest-mlops'\n",
    "version = 'v1'\n",
    "data_url = dvc.api.get_url(\n",
    "  path = path,\n",
    "  repo = repo,\n",
    "  rev=version\n",
    "  )\n",
    "\n",
    "\n",
    "df1 = pd.read_csv(data_url)\n",
    "df1.head()"
   ]
  },
  {
   "cell_type": "code",
   "execution_count": 2,
   "id": "d0d720db",
   "metadata": {},
   "outputs": [
    {
     "data": {
      "text/html": [
       "<div>\n",
       "<style scoped>\n",
       "    .dataframe tbody tr th:only-of-type {\n",
       "        vertical-align: middle;\n",
       "    }\n",
       "\n",
       "    .dataframe tbody tr th {\n",
       "        vertical-align: top;\n",
       "    }\n",
       "\n",
       "    .dataframe thead th {\n",
       "        text-align: right;\n",
       "    }\n",
       "</style>\n",
       "<table border=\"1\" class=\"dataframe\">\n",
       "  <thead>\n",
       "    <tr style=\"text-align: right;\">\n",
       "      <th></th>\n",
       "      <th>auction_id</th>\n",
       "      <th>experiment</th>\n",
       "      <th>date</th>\n",
       "      <th>hour</th>\n",
       "      <th>device_make</th>\n",
       "      <th>browser</th>\n",
       "      <th>yes</th>\n",
       "      <th>no</th>\n",
       "    </tr>\n",
       "  </thead>\n",
       "  <tbody>\n",
       "    <tr>\n",
       "      <th>0</th>\n",
       "      <td>0008ef63-77a7-448b-bd1e-075f42c55e39</td>\n",
       "      <td>exposed</td>\n",
       "      <td>2020-07-10</td>\n",
       "      <td>8</td>\n",
       "      <td>Generic Smartphone</td>\n",
       "      <td>Chrome Mobile</td>\n",
       "      <td>0</td>\n",
       "      <td>0</td>\n",
       "    </tr>\n",
       "    <tr>\n",
       "      <th>1</th>\n",
       "      <td>000eabc5-17ce-4137-8efe-44734d914446</td>\n",
       "      <td>exposed</td>\n",
       "      <td>2020-07-07</td>\n",
       "      <td>10</td>\n",
       "      <td>Generic Smartphone</td>\n",
       "      <td>Chrome Mobile</td>\n",
       "      <td>0</td>\n",
       "      <td>0</td>\n",
       "    </tr>\n",
       "    <tr>\n",
       "      <th>2</th>\n",
       "      <td>0016d14a-ae18-4a02-a204-6ba53b52f2ed</td>\n",
       "      <td>exposed</td>\n",
       "      <td>2020-07-05</td>\n",
       "      <td>2</td>\n",
       "      <td>E5823</td>\n",
       "      <td>Chrome Mobile WebView</td>\n",
       "      <td>0</td>\n",
       "      <td>1</td>\n",
       "    </tr>\n",
       "    <tr>\n",
       "      <th>3</th>\n",
       "      <td>00187412-2932-4542-a8ef-3633901c98d9</td>\n",
       "      <td>control</td>\n",
       "      <td>2020-07-03</td>\n",
       "      <td>15</td>\n",
       "      <td>Samsung SM-A705FN</td>\n",
       "      <td>Facebook</td>\n",
       "      <td>0</td>\n",
       "      <td>0</td>\n",
       "    </tr>\n",
       "    <tr>\n",
       "      <th>4</th>\n",
       "      <td>001a7785-d3fe-4e11-a344-c8735acacc2c</td>\n",
       "      <td>control</td>\n",
       "      <td>2020-07-03</td>\n",
       "      <td>15</td>\n",
       "      <td>Generic Smartphone</td>\n",
       "      <td>Chrome Mobile</td>\n",
       "      <td>0</td>\n",
       "      <td>0</td>\n",
       "    </tr>\n",
       "  </tbody>\n",
       "</table>\n",
       "</div>"
      ],
      "text/plain": [
       "                             auction_id experiment        date  hour  \\\n",
       "0  0008ef63-77a7-448b-bd1e-075f42c55e39    exposed  2020-07-10     8   \n",
       "1  000eabc5-17ce-4137-8efe-44734d914446    exposed  2020-07-07    10   \n",
       "2  0016d14a-ae18-4a02-a204-6ba53b52f2ed    exposed  2020-07-05     2   \n",
       "3  00187412-2932-4542-a8ef-3633901c98d9    control  2020-07-03    15   \n",
       "4  001a7785-d3fe-4e11-a344-c8735acacc2c    control  2020-07-03    15   \n",
       "\n",
       "          device_make                browser  yes  no  \n",
       "0  Generic Smartphone          Chrome Mobile    0   0  \n",
       "1  Generic Smartphone          Chrome Mobile    0   0  \n",
       "2               E5823  Chrome Mobile WebView    0   1  \n",
       "3   Samsung SM-A705FN               Facebook    0   0  \n",
       "4  Generic Smartphone          Chrome Mobile    0   0  "
      ]
     },
     "execution_count": 2,
     "metadata": {},
     "output_type": "execute_result"
    }
   ],
   "source": [
    "#load data\n",
    "df = pd.read_csv('../data/AdSmartABdata.csv')\n",
    "df.head()"
   ]
  },
  {
   "cell_type": "markdown",
   "id": "d60e1012",
   "metadata": {},
   "source": [
    "##### preprocessing the data"
   ]
  },
  {
   "cell_type": "code",
   "execution_count": null,
   "id": "05bbfdb9",
   "metadata": {},
   "outputs": [],
   "source": [
    "#checking for missing values\n",
    "df.isna().sum()"
   ]
  },
  {
   "cell_type": "code",
   "execution_count": null,
   "id": "6116cf7d",
   "metadata": {},
   "outputs": [],
   "source": [
    "# Create a Day of Week feature\n",
    "df['date']=pd.to_datetime(df['date'])\n",
    "df.head()"
   ]
  },
  {
   "cell_type": "code",
   "execution_count": null,
   "id": "b16fd16a",
   "metadata": {},
   "outputs": [],
   "source": [
    "# Create a Day of Week feature\n",
    "df['day_of_week'] = df['date'].dt.day_name()\n",
    "# Remove Date column\n",
    "del df['date']\n",
    "df.head()"
   ]
  },
  {
   "cell_type": "code",
   "execution_count": null,
   "id": "ae1715f1",
   "metadata": {},
   "outputs": [],
   "source": [
    "#users who have answered the questionnaire\n",
    "ml_data =df[np.logical_or(df['yes']==1,df['no']==1)]\n",
    "ml_data = ml_data.reset_index(drop=True)\n",
    "ml_data.shape"
   ]
  },
  {
   "cell_type": "code",
   "execution_count": null,
   "id": "55a051ec",
   "metadata": {},
   "outputs": [],
   "source": [
    "# label_encoder \n",
    "label_encoder = preprocessing.LabelEncoder() \n",
    "# Encode labels in all columns. \n",
    "ml_data['experiment']= label_encoder.fit_transform(ml_data['experiment'])\n",
    "ml_data['device_make']= label_encoder.fit_transform(ml_data['device_make'])\n",
    "ml_data['browser']= label_encoder.fit_transform(ml_data['browser'])\n",
    "ml_data['day_of_week']= label_encoder.fit_transform(ml_data['day_of_week'])\n"
   ]
  },
  {
   "cell_type": "code",
   "execution_count": null,
   "id": "055e84b6",
   "metadata": {},
   "outputs": [],
   "source": [
    "ml_data.head()"
   ]
  },
  {
   "cell_type": "code",
   "execution_count": null,
   "id": "69ceeb6f",
   "metadata": {},
   "outputs": [],
   "source": [
    "ml_data.drop('auction_id', axis=1, inplace=True)\n",
    "ml_data.head()"
   ]
  },
  {
   "cell_type": "code",
   "execution_count": null,
   "id": "a977fe6c",
   "metadata": {},
   "outputs": [],
   "source": [
    "#scaling up our data\n",
    "from sklearn.preprocessing import MinMaxScaler\n",
    "scaling = MinMaxScaler()\n",
    "ml_data[:] = scaling.fit_transform(ml_data[:])\n",
    "ml_data.head()"
   ]
  },
  {
   "cell_type": "code",
   "execution_count": null,
   "id": "885df007",
   "metadata": {},
   "outputs": [],
   "source": [
    "# Shuffle the data\n",
    "ml_data = sklearn.utils.shuffle(ml_data)\n"
   ]
  },
  {
   "cell_type": "code",
   "execution_count": null,
   "id": "621a0660",
   "metadata": {},
   "outputs": [],
   "source": [
    "#Split the data into 70% training, 20% validation, and 10% test sets. \n",
    "train, validate, test = np.split(ml_data, [int(.7*len(ml_data)), int(.9*len(ml_data))])\n",
    "print(train.shape)\n",
    "print(validate.shape)\n",
    "print(test.shape)\n"
   ]
  },
  {
   "cell_type": "code",
   "execution_count": null,
   "id": "69c6c863",
   "metadata": {},
   "outputs": [],
   "source": [
    "X_train = train[['experiment', 'day_of_week', 'hour', 'device_make', 'platform_os', 'browser']]\n",
    "Y_train = train['yes']\n",
    "\n",
    "X_test= test[['experiment', 'date', 'hour', 'device_make', 'platform_os', 'browser']]\n",
    "Y_test = test['yes'] \n",
    "\n",
    "X_valid = validate[['experiment', 'date', 'hour', 'device_make', 'platform_os', 'browser']]\n",
    "Y_valid = validate['yes']"
   ]
  },
  {
   "cell_type": "markdown",
   "id": "67b6cb7f",
   "metadata": {},
   "source": [
    "#### Modeling"
   ]
  },
  {
   "cell_type": "code",
   "execution_count": null,
   "id": "072275e4",
   "metadata": {},
   "outputs": [],
   "source": [
    "k_fold = KFold(n_splits=5, shuffle=True, random_state=0)"
   ]
  },
  {
   "cell_type": "markdown",
   "id": "1ddb0776",
   "metadata": {},
   "source": [
    "#### Logistic regression"
   ]
  },
  {
   "cell_type": "code",
   "execution_count": null,
   "id": "7deb8670",
   "metadata": {},
   "outputs": [],
   "source": [
    "from sklearn import linear_model\n",
    "import scipy.stats as stat\n",
    "import numpy as np\n",
    "from sklearn.metrics import log_loss\n",
    "\n",
    "class LogisticReg:\n",
    "  \n",
    "    def __init__(self):\n",
    "        self.model = linear_model.LogisticRegression()\n",
    "\n",
    "    def fit(self,X,y):\n",
    "        self.X = X\n",
    "        self.y = y\n",
    "        self.model.fit(X,y)\n",
    "        #### Get p-values for the fitted model ####\n",
    "        denom = (2.0*(1.0+np.cosh(self.model.decision_function(X))))\n",
    "        denom = np.tile(denom,(X.shape[1],1)).T\n",
    "        F_ij = np.dot((X/denom).T,X) ## Fisher Information Matrix\n",
    "        Cramer_Rao = np.linalg.inv(F_ij) ## Inverse Information Matrix\n",
    "        sigma_estimates = np.sqrt(np.diagonal(Cramer_Rao))\n",
    "        z_scores = self.model.coef_[0]/sigma_estimates # z-score for eaach model coefficient\n",
    "        p_values = [stat.norm.sf(abs(x))*2 for x in z_scores] ### two tailed test for p-values\n",
    "        \n",
    "        self.z_scores = z_scores\n",
    "        self.p_values = p_values\n",
    "        self.sigma_estimates = sigma_estimates\n",
    "        self.F_ij = F_ij\n",
    "    \n",
    "    def get_summary(self):\n",
    "        summary= pd.DataFrame()\n",
    "        summary[\"features\"] = self.X.columns\n",
    "        summary[\"z_score\"] = self.z_scores\n",
    "        summary[\"p_value\"] = self.p_values\n",
    "        sns.barplot(summary[\"features\"],summary[\"p_value\"], data=summary)\n",
    "        return summary\n",
    "    def get_predicate(self,test):\n",
    "        self.test = test       \n",
    "        return self.model.predict(test)\n",
    "\n",
    "    def get_accuracy(self,test_data,test_targ,k_fold):\n",
    "        return cross_val_score(self.model,test_data, test_targ,cv=k_fold, scoring= 'accuracy').mean()\n",
    "        \n",
    "    def get_loss(self,valid_data,valid_targ,k_fold):\n",
    "        return -(cross_val_score(self.model,valid_data, valid_targ,cv=k_fold, scoring= 'neg_log_loss').mean())\n",
    "    def get_eff_model(self,test_data,test_targ,kfold):\n",
    "        scoring = [\"accuracy\",\"roc_auc\",\"neg_log_loss\",\"r2\",\n",
    "             \"neg_mean_squared_error\",\"neg_mean_absolute_error\"] \n",
    "\n",
    "        metrics = pd.DataFrame()\n",
    "        metrics[\"model\"] = [\"Logistic regression\"]\n",
    "        for scor in scoring:\n",
    "            score = []\n",
    "            result = model_selection.cross_val_score(estimator= self.model, X=test_data, y=test_targ,cv=kfold,scoring=scor )\n",
    "            score.append(result.mean())\n",
    "            \n",
    "            metrics[scor] =pd.Series(score)\n",
    "        \n",
    "        return metrics\n",
    "\n",
    "\n"
   ]
  },
  {
   "cell_type": "markdown",
   "id": "a2d4e34b",
   "metadata": {},
   "source": [
    "#### Decision Tree"
   ]
  },
  {
   "cell_type": "code",
   "execution_count": null,
   "id": "0e119310",
   "metadata": {},
   "outputs": [],
   "source": [
    "from sklearn.tree import DecisionTreeClassifier\n",
    "import scipy.stats as stat\n",
    "import numpy as np\n",
    "from sklearn.metrics import log_loss\n",
    "\n",
    "class Decision_Tree:\n",
    "  \n",
    "    def __init__(self):\n",
    "        self.model = DecisionTreeClassifier()\n",
    "\n",
    "    def fit(self,X,y):\n",
    "        self.X = X\n",
    "        self.y = y\n",
    "        self.model.fit(X,y)\n",
    "\n",
    "    def get_predicate(self,test):\n",
    "        self.test = test       \n",
    "        return self.model.predict(test)\n",
    "\n",
    "    def get_accuracy(self,pred,test_data,test_targ,k_fold):\n",
    "        return cross_val_score(self.model,test_data, test_targ,cv=k_fold, scoring= 'accuracy').mean()\n",
    "        \n",
    "    def get_loss(self,valid_data,valid_targ,k_fold):\n",
    "        return -(cross_val_score(self.model,valid_data, valid_targ,cv=k_fold, scoring= 'neg_log_loss').mean())\n",
    "    def get_eff_model(self,test_data,test_targ,kfold):\n",
    "        scoring = [\"accuracy\",\"roc_auc\",\"neg_log_loss\",\"r2\",\n",
    "             \"neg_mean_squared_error\",\"neg_mean_absolute_error\"] \n",
    "\n",
    "        metrics = pd.DataFrame()\n",
    "        metrics[\"model\"] = [\"Decission Tree\"]\n",
    "        for scor in scoring:\n",
    "            score = []\n",
    "            result = model_selection.cross_val_score(estimator= self.model, X=test_data, y=test_targ,cv=kfold,scoring=scor )\n",
    "            score.append(result.mean())\n",
    "            \n",
    "            metrics[scor] =pd.Series(score)\n",
    "        \n",
    "        return metrics\n",
    "    def get_feature_impo(self):\n",
    "        feat_importance = pd.Series(self.model.feature_importances_, index=self.X.columns)\n",
    "        feat_importance.plot(kind='bar')\n",
    "        plt.show()\n",
    "        return feat_importance\n",
    "\n"
   ]
  },
  {
   "cell_type": "markdown",
   "id": "a342f267",
   "metadata": {},
   "source": [
    "#### XGBoost"
   ]
  },
  {
   "cell_type": "code",
   "execution_count": null,
   "id": "6dc045ea",
   "metadata": {},
   "outputs": [],
   "source": [
    "import scipy.stats as stat\n",
    "import numpy as np\n",
    "from sklearn.metrics import log_loss\n",
    "\n",
    "class XG_Boost:\n",
    "  \n",
    "    def __init__(self):\n",
    "      data_dmatrix = xgb.DMatrix(data=train_invar,label=train_targ)\n",
    "      self.model = xgb.XGBClassifier()\n",
    "\n",
    "    def fit(self,X,y):\n",
    "        self.X = X\n",
    "        self.y = y\n",
    "        self.model.fit(X,y)\n",
    "\n",
    "    def get_predicate(self,test):\n",
    "        self.test = test       \n",
    "        return self.model.predict(test)\n",
    "\n",
    "    def get_accuracy(self,pred,test_data,test_targ,k_fold):\n",
    "        return cross_val_score(self.model,test_data, test_targ,cv=k_fold, scoring= 'accuracy').mean()\n",
    "        \n",
    "    def get_loss(self,valid_data,valid_targ,k_fold):\n",
    "        return -(cross_val_score(self.model,valid_data, valid_targ,cv=k_fold, scoring= 'neg_log_loss').mean())\n",
    "    def get_eff_model(self,test_data,test_targ,kfold):\n",
    "        scoring = [\"accuracy\",\"roc_auc\",\"neg_log_loss\",\"r2\",\n",
    "             \"neg_mean_squared_error\",\"neg_mean_absolute_error\"] \n",
    "\n",
    "        metrics = pd.DataFrame()\n",
    "        metrics[\"model\"] = [\"XG_Boost\"]\n",
    "        for scor in scoring:\n",
    "            score = []\n",
    "            result = model_selection.cross_val_score(estimator= self.model, X=test_data, y=test_targ,cv=kfold,scoring=scor )\n",
    "            score.append(result.mean())\n",
    "            \n",
    "            metrics[scor] =pd.Series(score)\n",
    "        \n",
    "        return metrics\n",
    "    def get_feature_impo(self):\n",
    "        feat_importance = pd.Series(self.model.feature_importances_, index=self.X.columns)\n",
    "        feat_importance.plot(kind='bar')\n",
    "        plt.show()\n",
    "        return feat_importance"
   ]
  },
  {
   "cell_type": "markdown",
   "id": "f71812d0",
   "metadata": {},
   "source": [
    "### Analysis"
   ]
  },
  {
   "cell_type": "code",
   "execution_count": null,
   "id": "f389cc80",
   "metadata": {},
   "outputs": [],
   "source": [
    "#create models\n",
    "log_model = LogisticReg()\n",
    "decision_tree = Decision_Tree()\n",
    "xg_boost = XG_Boost()\n",
    "\n",
    "#Train the model\n",
    "log_model.fit(train_invar,train_targ)\n",
    "decision_tree.fit(train_invar,train_targ)\n",
    "xg_boost.fit(train_invar,train_targ)\n"
   ]
  },
  {
   "cell_type": "markdown",
   "id": "a73fcf44",
   "metadata": {},
   "source": [
    "#### importance of features"
   ]
  },
  {
   "cell_type": "code",
   "execution_count": null,
   "id": "26e22073",
   "metadata": {},
   "outputs": [],
   "source": [
    "#feature importance in logistic regression\n",
    "log_model.get_summary()\n"
   ]
  },
  {
   "cell_type": "code",
   "execution_count": null,
   "id": "0900dd9f",
   "metadata": {},
   "outputs": [],
   "source": [
    "#feature importance in decision\n",
    "decision_tree.get_feature_impo()"
   ]
  },
  {
   "cell_type": "code",
   "execution_count": null,
   "id": "f3d0f94a",
   "metadata": {},
   "outputs": [],
   "source": [
    "#feature importance in logistic regression\n",
    "xg_boost.get_feature_impo()"
   ]
  },
  {
   "cell_type": "markdown",
   "id": "4489deac",
   "metadata": {},
   "source": [
    "#### Compare the efficency of the model"
   ]
  },
  {
   "cell_type": "code",
   "execution_count": null,
   "id": "11612129",
   "metadata": {},
   "outputs": [],
   "source": [
    "from sklearn import model_selection\n",
    "\n",
    "def eff_models(model, train_data, train_targ, kfold):\n",
    "    scoring = [\"accuracy\",\"roc_auc\",\"neg_log_loss\",\"r2\"] \n",
    "\n",
    "    eff_models = pd.DataFrame()\n",
    "    eff_models[\"model\"] = model\n",
    "    for scor in scoring:\n",
    "        score = []\n",
    "        for mod in model:\n",
    "           \n",
    "            result = model_selection.cross_val_score(estimator= mod, X=train_data, y=train_targ,cv=kfold,scoring=scor )\n",
    "            score.append(result.mean())\n",
    "            \n",
    "        eff_models[scor] =pd.Series(score)\n",
    "        \n",
    "    return eff_models"
   ]
  },
  {
   "cell_type": "code",
   "execution_count": null,
   "id": "bf5c6ee4",
   "metadata": {},
   "outputs": [],
   "source": [
    "\n",
    "error_metrics(model=[log_model.model,decision_tree.model,xg_boost.model],train_data = train_invar, train_targ = train_targ, kfold=k_fold)"
   ]
  },
  {
   "cell_type": "markdown",
   "id": "98351869",
   "metadata": {},
   "source": [
    "#### validate the **data**"
   ]
  },
  {
   "cell_type": "code",
   "execution_count": null,
   "id": "03b51bff",
   "metadata": {},
   "outputs": [],
   "source": [
    "pred = log_model.get_predicate( valid_invar)\n",
    "\n",
    "pre = pd.DataFrame()\n",
    "pre[\"predicate\"]=pred\n",
    "pre[\"actual\"] = train_targ\n",
    "\n",
    "corr_mat = pre.corr()\n",
    "top_corr_features = corr_mat.index\n",
    "plt.figure(figsize=(10,10))\n",
    "#plot heat map\n",
    "sns.heatmap(pre[top_corr_features].corr(), annot= True)\n",
    "\n",
    "log_model.get_eff_model(valid_invar,valid_targ,k_fold)\n"
   ]
  },
  {
   "cell_type": "code",
   "execution_count": null,
   "id": "722999de",
   "metadata": {},
   "outputs": [],
   "source": [
    "pred = decision_tree.get_predicate( valid_invar)\n",
    "\n",
    "pre = pd.DataFrame()\n",
    "pre[\"predicate\"]=pred\n",
    "pre[\"actual\"] = train_targ\n",
    "\n",
    "corr_mat = pre.corr()\n",
    "top_corr_features = corr_mat.index\n",
    "plt.figure(figsize=(10,10))\n",
    "#plot heat map\n",
    "sns.heatmap(pre[top_corr_features].corr(), annot= True)\n",
    "\n",
    "decision_tree.get_eff_model(valid_invar,valid_targ,k_fold)"
   ]
  },
  {
   "cell_type": "code",
   "execution_count": null,
   "id": "95d132ec",
   "metadata": {},
   "outputs": [],
   "source": [
    "pred = xg_boost.get_predicate( valid_invar)\n",
    "\n",
    "pre = pd.DataFrame()\n",
    "pre[\"predicate\"]=pred\n",
    "pre[\"actual\"] = train_targ\n",
    "\n",
    "corr_mat = pre.corr()\n",
    "top_corr_features = corr_mat.index\n",
    "plt.figure(figsize=(10,10))\n",
    "#plot heat map\n",
    "sns.heatmap(pre[top_corr_features].corr(), annot= True)\n",
    "\n",
    "xg_boost.get_eff_model(valid_invar,valid_targ,k_fold)"
   ]
  },
  {
   "cell_type": "markdown",
   "id": "ac1ed799",
   "metadata": {},
   "source": [
    "### Test the data"
   ]
  },
  {
   "cell_type": "code",
   "execution_count": null,
   "id": "05b12b63",
   "metadata": {},
   "outputs": [],
   "source": [
    "from sklearn import metrics\n",
    "pred = log_model.get_predicate( valid_invar)\n",
    "\n"
   ]
  },
  {
   "cell_type": "code",
   "execution_count": null,
   "id": "3ade91fa",
   "metadata": {},
   "outputs": [],
   "source": []
  },
  {
   "cell_type": "code",
   "execution_count": null,
   "id": "8704fc2f",
   "metadata": {},
   "outputs": [],
   "source": []
  },
  {
   "cell_type": "code",
   "execution_count": null,
   "id": "e14cda55",
   "metadata": {},
   "outputs": [],
   "source": []
  }
 ],
 "metadata": {
  "kernelspec": {
   "display_name": "Python 3",
   "language": "python",
   "name": "python3"
  },
  "language_info": {
   "codemirror_mode": {
    "name": "ipython",
    "version": 3
   },
   "file_extension": ".py",
   "mimetype": "text/x-python",
   "name": "python",
   "nbconvert_exporter": "python",
   "pygments_lexer": "ipython3",
   "version": "3.8.10"
  }
 },
 "nbformat": 4,
 "nbformat_minor": 5
}
